{
  "nbformat": 4,
  "nbformat_minor": 0,
  "metadata": {
    "colab": {
      "provenance": [],
      "include_colab_link": true
    },
    "kernelspec": {
      "name": "python3",
      "display_name": "Python 3"
    },
    "language_info": {
      "name": "python"
    }
  },
  "cells": [
    {
      "cell_type": "markdown",
      "metadata": {
        "id": "view-in-github",
        "colab_type": "text"
      },
      "source": [
        "<a href=\"https://colab.research.google.com/github/CaioPassos3/LaboratorioCD/blob/main/LCDap1.ipynb\" target=\"_parent\"><img src=\"https://colab.research.google.com/assets/colab-badge.svg\" alt=\"Open In Colab\"/></a>"
      ]
    },
    {
      "cell_type": "code",
      "source": [
        "import pandas as pd\n",
        "import numpy as np"
      ],
      "metadata": {
        "id": "tXmapMQwTE75"
      },
      "execution_count": 39,
      "outputs": []
    },
    {
      "cell_type": "code",
      "execution_count": 31,
      "metadata": {
        "id": "XasRMxgoSKpD",
        "colab": {
          "base_uri": "https://localhost:8080/"
        },
        "outputId": "fabe1203-c715-4f0b-adf9-086e121f1828"
      },
      "outputs": [
        {
          "output_type": "stream",
          "name": "stdout",
          "text": [
            "Drive already mounted at /content/drive; to attempt to forcibly remount, call drive.mount(\"/content/drive\", force_remount=True).\n"
          ]
        }
      ],
      "source": [
        "from google.colab import drive\n",
        "drive.mount('/content/drive')\n",
        "\n",
        "df = pd.read_csv(\"/content/drive/MyDrive/Colab Notebooks/ck0441-lab-ciencia-dados/dados/LCD-ap1.csv\", sep = \";\")"
      ]
    },
    {
      "cell_type": "code",
      "source": [
        "print(df.columns)"
      ],
      "metadata": {
        "colab": {
          "base_uri": "https://localhost:8080/"
        },
        "id": "6OIPOBiqWPp4",
        "outputId": "47e99da1-e0ad-4fae-bdbe-385e46194fe7"
      },
      "execution_count": null,
      "outputs": [
        {
          "output_type": "stream",
          "name": "stdout",
          "text": [
            "Index(['Ano;Mês;razao_social;cnpj;velocidade_contratada_mbps;uf;municipio;codigo_ibge;acessos;tipo;municipio_uf'], dtype='object')\n"
          ]
        }
      ]
    },
    {
      "cell_type": "markdown",
      "source": [
        "Questão 1"
      ],
      "metadata": {
        "id": "JDz_TidcTPcO"
      }
    },
    {
      "cell_type": "code",
      "source": [
        "#Agrupando e calculando a média\n",
        "df_grouped = df.groupby(['Ano', 'tipo', 'uf']).agg({'velocidade_contratada_mbps': 'mean'}).reset_index()\n",
        "\n",
        "#Encontrando máximos e mínimos\n",
        "df_max = df_grouped.loc[df_grouped.groupby(['Ano', 'tipo'])['velocidade_contratada_mbps'].idxmax()]\n",
        "df_min = df_grouped.loc[df_grouped.groupby(['Ano', 'tipo'])['velocidade_contratada_mbps'].idxmin()]\n",
        "\n",
        "#Exibindo resultados\n",
        "print(\"Estados com maior velocidade média contratada:\")\n",
        "print(df_max)\n",
        "\n",
        "print(\"\\nEstados com menor velocidade média contratada:\")\n",
        "print(df_min)"
      ],
      "metadata": {
        "colab": {
          "base_uri": "https://localhost:8080/"
        },
        "id": "Xtm_rsAugjkl",
        "outputId": "e366f080-419a-48c0-91ae-297e9714d9b1"
      },
      "execution_count": 43,
      "outputs": [
        {
          "output_type": "stream",
          "name": "stdout",
          "text": [
            "Estados com maior velocidade média contratada:\n",
            "        Ano          tipo  uf  velocidade_contratada_mbps\n",
            "2    2017.0      INTERNET  AM                   49.878559\n",
            "37   2017.0  NÃO INTERNET  MG                 1052.879282\n",
            "56   2018.0      INTERNET  AM                   52.513930\n",
            "91   2018.0  NÃO INTERNET  MG                  599.736857\n",
            "111  2019.0      INTERNET  AP                   86.407566\n",
            "141  2019.0  NÃO INTERNET  DF                  292.762518\n",
            "165  2020.0      INTERNET  AP                  182.861192\n",
            "207  2020.0  NÃO INTERNET  RJ                  287.898948\n",
            "\n",
            "Estados com menor velocidade média contratada:\n",
            "        Ano          tipo  uf  velocidade_contratada_mbps\n",
            "20   2017.0      INTERNET  RO                    3.609857\n",
            "50   2017.0  NÃO INTERNET  SC                   16.943230\n",
            "74   2018.0      INTERNET  RO                    4.146350\n",
            "104  2018.0  NÃO INTERNET  SC                   26.016111\n",
            "128  2019.0      INTERNET  RO                    4.906212\n",
            "157  2019.0  NÃO INTERNET  RS                   40.287332\n",
            "188  2020.0      INTERNET  TO                    6.054434\n",
            "211  2020.0  NÃO INTERNET  RS                   40.420704\n"
          ]
        }
      ]
    },
    {
      "cell_type": "markdown",
      "source": [
        "Usei groupby para agrupar por Ano, tipo e uf para calcular a velocidade média para cada combinação desses grupos.\n",
        "A função agg é usada para aplicar uma função \"mean\"(média) para os grupos de maior e menos média.\n",
        "Usei idmax e idmin para encontrar os estados com a maior e menor velocidade média em cada grupo.\n",
        "A função reset_index cria um novo índice resultante do agrupamento, ajudando na manipulação dos dados.\n",
        "Depois, so printar o resultado."
      ],
      "metadata": {
        "id": "P4hwf8umhZYz"
      }
    },
    {
      "cell_type": "markdown",
      "source": [
        "Questão 2"
      ],
      "metadata": {
        "id": "QvlkBx_obULi"
      }
    },
    {
      "cell_type": "code",
      "source": [
        "#Filtrando os dados para o ano de 2020 e tipo \"INTERNET\"\n",
        "df_2020_internet = df[(df['Ano'] == 2020) & (df['tipo'] == 'INTERNET')]\n",
        "\n",
        "#Agrupando por município e calculando a velocidade média\n",
        "df_grouped = df_2020_internet.groupby('municipio')['velocidade_contratada_mbps'].mean().reset_index()\n",
        "\n",
        "#Calculando o quartil superior da velocidade média\n",
        "q3 = df_grouped['velocidade_contratada_mbps'].quantile(0.75)\n",
        "\n",
        "#Filtrando as cidades com velocidade média acima do quartil superior\n",
        "cidades_top = df_grouped[df_grouped['velocidade_contratada_mbps'] >= q3]\n",
        "\n",
        "#Imprimindo as cidades\n",
        "print(cidades_top)"
      ],
      "metadata": {
        "colab": {
          "base_uri": "https://localhost:8080/"
        },
        "id": "Eiv3C5uci2cv",
        "outputId": "c2e14840-ccf6-42ad-e812-a782e643c124"
      },
      "execution_count": 44,
      "outputs": [
        {
          "output_type": "stream",
          "name": "stdout",
          "text": [
            "                    municipio  velocidade_contratada_mbps\n",
            "4                  ABAETETUBA                   73.988991\n",
            "5                     ABAIARA                    8.058824\n",
            "11               ABELARDO LUZ                   10.703028\n",
            "13               ABREU E LIMA                   23.151427\n",
            "16                 ACAILANDIA                   36.251692\n",
            "...                       ...                         ...\n",
            "5387              joao pessoa                  174.074074\n",
            "5388                maracanau                  114.514124\n",
            "5389                    natal                  127.053512\n",
            "5390               parnamirim                  135.161157\n",
            "5391  sao goncalo do amarante                  145.860215\n",
            "\n",
            "[1351 rows x 2 columns]\n"
          ]
        }
      ]
    },
    {
      "cell_type": "markdown",
      "source": [
        "Usei df_2020_internet para filtrar os dados para o ano de 2020 e tipo \"INTERNET\".\n",
        "Usei df_grouped para agrupar os dados por município e calcular a velocidade média contratada para cada município(mean).\n",
        "Usei q3 para calcular o valor do terceiro quartil (75º percentil) da velocidade média.\n",
        "Usei cidades_top para filtrar os dados para encontrar os municípios com velocidade média acima do quartil superior.\n",
        "Para terminar, so printar os resultados.\n"
      ],
      "metadata": {
        "id": "3wBaM69HjFtj"
      }
    },
    {
      "cell_type": "markdown",
      "source": [
        "Questão 3"
      ],
      "metadata": {
        "id": "Ncowd_Foka8R"
      }
    },
    {
      "cell_type": "code",
      "source": [
        "#Agrupando por estado e ano, calculando a soma dos acessos\n",
        "df_agrupado = df.groupby(['uf', 'Ano'])['acessos'].sum().reset_index()\n",
        "\n",
        "#Obtendo o primeiro e o último ano\n",
        "primeiro_ano = df_agrupado['Ano'].min()\n",
        "ultimo_ano = df_agrupado['Ano'].max()\n",
        "\n",
        "#Filtrando os dados para o primeiro e o último ano\n",
        "df_filtrado = df_agrupado[(df_agrupado['Ano'] == primeiro_ano) | (df_agrupado['Ano'] == ultimo_ano)]\n",
        "\n",
        "#Pivotando os dados para facilitar o cálculo da taxa de crescimento\n",
        "df_pivot = df_filtrado.pivot_table(index='uf', columns='Ano', values='acessos')\n",
        "\n",
        "#Calculando a taxa de crescimento\n",
        "taxa_crescimento = (df_pivot[ultimo_ano] - df_pivot[primeiro_ano]) / df_pivot[primeiro_ano]\n",
        "\n",
        "#Criando um DataFrame com os resultados\n",
        "resultados = pd.DataFrame({'Estado': taxa_crescimento.index, 'Taxa de Crescimento': taxa_crescimento.values})\n",
        "\n",
        "print(resultados)"
      ],
      "metadata": {
        "colab": {
          "base_uri": "https://localhost:8080/"
        },
        "id": "nHQ7gX_9kZcF",
        "outputId": "7e821277-3437-414c-bace-bd1b1ad9b420"
      },
      "execution_count": 45,
      "outputs": [
        {
          "output_type": "stream",
          "name": "stdout",
          "text": [
            "   Estado  Taxa de Crescimento\n",
            "0      AC             0.167726\n",
            "1      AL            -0.077491\n",
            "2      AM             0.295250\n",
            "3      AP             0.341455\n",
            "4      BA            -0.084403\n",
            "5      CE            -0.053903\n",
            "6      DF             0.033495\n",
            "7      ES            -0.029193\n",
            "8      GO            -0.033055\n",
            "9      MA             0.097006\n",
            "10     MG             0.005164\n",
            "11     MS            -0.070010\n",
            "12     MT            -0.046532\n",
            "13     PA             0.091103\n",
            "14     PB            -0.281993\n",
            "15     PE            -0.127155\n",
            "16     PI            -0.106844\n",
            "17     PR            -0.043938\n",
            "18     RJ            -0.032398\n",
            "19     RN             0.001811\n",
            "20     RO             0.030407\n",
            "21     RR             0.069155\n",
            "22     RS            -0.050617\n",
            "23     SC            -0.039555\n",
            "24     SE            -0.081636\n",
            "25     SP            -0.035716\n",
            "26     TO            -0.144994\n"
          ]
        }
      ]
    },
    {
      "cell_type": "markdown",
      "source": [
        "Agrupo os dados por estado e ano, utilizando a função groupby.\n",
        "Para cada grupo (estado e ano), calculo a soma dos acessos.\n",
        "Identifico o primeiro e o último ano presentes nos dados.\n",
        "Filtro os dados para obter apenas os registros do primeiro e do último ano.\n",
        " Calculo a taxa de crescimento utilizando a fórmula: taxa_de_crescimento = (valor_final - valor_inicial) / valor_inicial.\n",
        " Crio um DataFrame para armazenar os resultados, com as colunas \"Estado\" e \"Taxa de Crescimento\".\n",
        " Printo o DataFrame."
      ],
      "metadata": {
        "id": "-xVxl42aloT8"
      }
    },
    {
      "cell_type": "markdown",
      "source": [
        "Questão 4"
      ],
      "metadata": {
        "id": "iXXo0MQVmXbT"
      }
    },
    {
      "cell_type": "code",
      "source": [
        "#Filtrando os dados para o Ceará e 2019\n",
        "df_ceara_2019 = df[(df['uf'] == 'CE') & (df['Ano'] == 2019) & (df['tipo'] == 'NÃO INTERNET')]\n",
        "\n",
        "#Agrupando por prestadora e calculando o número total de acessos de TV e o número total de acessos\n",
        "grouped = df_ceara_2019.groupby('razao_social').agg({'acessos': 'sum'})\n",
        "\n",
        "#Calculando a probabilidade para cada prestadora\n",
        "total_acessos_ceara_2019 = df_ceara_2019['acessos'].sum()\n",
        "grouped['probabilidade'] = grouped['acessos'] / total_acessos_ceara_2019\n",
        "\n",
        "print(grouped)"
      ],
      "metadata": {
        "colab": {
          "base_uri": "https://localhost:8080/"
        },
        "id": "DN2YgY0QmZA8",
        "outputId": "c7689c2e-059e-4097-c563-4ebfea07563c"
      },
      "execution_count": 47,
      "outputs": [
        {
          "output_type": "stream",
          "name": "stdout",
          "text": [
            "                                             acessos  probabilidade\n",
            "razao_social                                                       \n",
            "BRASIL TELECOM COMUNICACAO MULTIMIDIA LTDA      48.0       0.000130\n",
            "CLARO S.A                                    48025.0       0.130136\n",
            "TELEFONICA BRASIL S/A                         9146.0       0.024783\n",
            "Telemar Norte Leste S/A                     311818.0       0.844951\n"
          ]
        }
      ]
    },
    {
      "cell_type": "markdown",
      "source": [
        "Usei df_ceara_2019 para filtrar para que o DataFrame inclua apenas as linhas referentes ao Ceará, ao ano de 2019 e ao tipo de serviço \"NÃO INTERNET\".\n",
        "Usei grouped para agrupar os dados por \"razao_social\" e calcular a soma dos acessos para cada grupo.\n",
        "Usei grouped['probabilidade'] = grouped['acessos'] / total_acessos_ceara_2019\n",
        "para calcular a probabilidade para cada prestadora dividindo o número de acessos de TV da prestadora pelo número total de acessos de TV no Ceará em 2019.\n",
        "No fim, printo grouped"
      ],
      "metadata": {
        "id": "AGbSY_zVoQQK"
      }
    }
  ]
}