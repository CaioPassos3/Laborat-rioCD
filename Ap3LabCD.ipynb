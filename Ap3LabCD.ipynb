{
  "nbformat": 4,
  "nbformat_minor": 0,
  "metadata": {
    "colab": {
      "provenance": [],
      "authorship_tag": "ABX9TyMOJBWBq181nYiVVEMUwV8I",
      "include_colab_link": true
    },
    "kernelspec": {
      "name": "python3",
      "display_name": "Python 3"
    },
    "language_info": {
      "name": "python"
    }
  },
  "cells": [
    {
      "cell_type": "markdown",
      "metadata": {
        "id": "view-in-github",
        "colab_type": "text"
      },
      "source": [
        "<a href=\"https://colab.research.google.com/github/CaioPassos3/LaboratorioCD/blob/main/Ap3LabCD.ipynb\" target=\"_parent\"><img src=\"https://colab.research.google.com/assets/colab-badge.svg\" alt=\"Open In Colab\"/></a>"
      ]
    },
    {
      "cell_type": "code",
      "execution_count": 1,
      "metadata": {
        "id": "i-eXPNPGFNR0"
      },
      "outputs": [],
      "source": [
        "import pandas as pd"
      ]
    },
    {
      "cell_type": "code",
      "source": [
        "df = pd.read_csv(\"fraud_detection.csv\")"
      ],
      "metadata": {
        "id": "rsf8iiv6FYwK"
      },
      "execution_count": 2,
      "outputs": []
    },
    {
      "cell_type": "code",
      "source": [
        "print(df.columns)"
      ],
      "metadata": {
        "colab": {
          "base_uri": "https://localhost:8080/"
        },
        "id": "cmDqHAlMFdKT",
        "outputId": "d6b47ee6-4818-464a-e843-82720aaedf9c"
      },
      "execution_count": 4,
      "outputs": [
        {
          "output_type": "stream",
          "name": "stdout",
          "text": [
            "Index(['TransactionID', 'CustomerID', 'Amount', 'TransactionType', 'Location',\n",
            "       'DeviceType', 'TimeOfDay', 'PreviousFraud', 'TransactionSpeed',\n",
            "       'Fraud'],\n",
            "      dtype='object')\n"
          ]
        }
      ]
    },
    {
      "cell_type": "code",
      "source": [
        "print(df.head())"
      ],
      "metadata": {
        "colab": {
          "base_uri": "https://localhost:8080/"
        },
        "id": "5pFiYLg7HRJA",
        "outputId": "6f0b6c25-6802-42ee-b86a-30e22f46cead"
      },
      "execution_count": 5,
      "outputs": [
        {
          "output_type": "stream",
          "name": "stdout",
          "text": [
            "   TransactionID  CustomerID       Amount TransactionType     Location  \\\n",
            "0              1        4174  3623.044171      Withdrawal      Houston   \n",
            "1              2        4507          NaN         Deposit        Miami   \n",
            "2              3        1860  8760.570892        Purchase      Houston   \n",
            "3              4        2294  7833.768690        Purchase        Miami   \n",
            "4              5        2130  1689.499795        Purchase  Los Angeles   \n",
            "\n",
            "  DeviceType  TimeOfDay  PreviousFraud  TransactionSpeed  Fraud  \n",
            "0     Laptop    Morning              0         18.002612      0  \n",
            "1     Mobile    Morning              0         20.276396      0  \n",
            "2        ATM    Morning              0         39.389780      0  \n",
            "3     Laptop    Morning              0         58.910737      0  \n",
            "4     Mobile  Afternoon              0         13.060114      0  \n"
          ]
        }
      ]
    },
    {
      "cell_type": "markdown",
      "source": [
        "TransactionID: Um identificador único para cada transação no dataset.\n",
        "\n",
        "CustomerID: Um identificador único para cada cliente, permitindo rastrear seu histórico de transações.\n",
        "\n",
        "Amount: O valor da transação.\n",
        "\n",
        "TransactionType: O tipo de transação realizada.\n",
        "\n",
        "Location: A localização onde a transação foi realizada.\n",
        "\n",
        "DeviceType: O tipo de dispositivo usado para realizar a transação.\n",
        "\n",
        "TimeOfDay: O período do dia em que a transação ocorreu.\n",
        "\n",
        "PreviousFraud: Indica se o cliente já teve transações fraudulentas anteriores(0 para não, 1 para sim).\n",
        "\n",
        "TransactionSpeed: Mede a rapidez com que a transação foi processada.\n",
        "\n",
        "Fraud: A variável-alvo do dataset, indicando se a transação foi fraudulenta (1) ou não (0)."
      ],
      "metadata": {
        "id": "yE5XHIRKGq5y"
      }
    },
    {
      "cell_type": "code",
      "source": [
        "fraudulent_transactions = df[df[\"Fraud\"] == 1]\n",
        "print(fraudulent_transactions.head())"
      ],
      "metadata": {
        "colab": {
          "base_uri": "https://localhost:8080/"
        },
        "id": "kXysFQHqIbNs",
        "outputId": "6fb8081b-d6d1-4fe2-d3c1-0bb861144f88"
      },
      "execution_count": 6,
      "outputs": [
        {
          "output_type": "stream",
          "name": "stdout",
          "text": [
            "    TransactionID  CustomerID       Amount TransactionType     Location  \\\n",
            "16             17        4171  7236.069737        Purchase      Chicago   \n",
            "28             29        2215  1430.391950        Transfer     New York   \n",
            "33             34        4385  5124.266921         Deposit  Los Angeles   \n",
            "37             38        3904  1984.926128      Withdrawal     New York   \n",
            "40             41        2082  2109.076582        Purchase        Miami   \n",
            "\n",
            "   DeviceType  TimeOfDay  PreviousFraud  TransactionSpeed  Fraud  \n",
            "16        POS  Afternoon              1         52.316252      1  \n",
            "28     Laptop      Night              1         18.158082      1  \n",
            "33        POS  Afternoon              1         15.466766      1  \n",
            "37     Laptop      Night              1          1.450143      1  \n",
            "40        POS    Morning              1         36.645863      1  \n"
          ]
        }
      ]
    }
  ]
}